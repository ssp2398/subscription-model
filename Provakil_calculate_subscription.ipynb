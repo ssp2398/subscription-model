{
 "cells": [
  {
   "cell_type": "code",
   "execution_count": 1,
   "id": "d52bfb77",
   "metadata": {},
   "outputs": [],
   "source": [
    "from datetime import datetime, timedelta"
   ]
  },
  {
   "cell_type": "code",
   "execution_count": 2,
   "id": "8297ece5",
   "metadata": {},
   "outputs": [],
   "source": [
    "def calculate_subscription(expiry_date, months_to_buy, monthly_cost):\n",
    "    expiry_dt = datetime.strptime(expiry_date, '%d/%m/%Y')\n",
    "\n",
    "    # Check if expiry date is close to 1st or 15th\n",
    "    if expiry_dt.day <= 15:\n",
    "        next_expiry_dt = expiry_dt.replace(day=1) + timedelta(days=30*months_to_buy)\n",
    "        cost = (next_expiry_dt - expiry_dt).days * monthly_cost/30\n",
    "    else:\n",
    "        next_expiry_dt = expiry_dt.replace(day=15) + timedelta(days=30*months_to_buy)\n",
    "        cost =(next_expiry_dt - expiry_dt).days * monthly_cost/30\n",
    "    \n",
    "    new_expiry = next_expiry_dt.strftime('%d/%m/%Y')\n",
    "    return (new_expiry, round(cost,2))"
   ]
  },
  {
   "cell_type": "code",
   "execution_count": 3,
   "id": "71373dc9",
   "metadata": {},
   "outputs": [
    {
     "data": {
      "text/plain": [
       "('15/07/2022', 866.67)"
      ]
     },
     "execution_count": 3,
     "metadata": {},
     "output_type": "execute_result"
    }
   ],
   "source": [
    "calculate_subscription(\"19/06/2022\", 1, 1000)"
   ]
  },
  {
   "cell_type": "code",
   "execution_count": 4,
   "id": "94e2f78f",
   "metadata": {},
   "outputs": [
    {
     "data": {
      "text/plain": [
       "('30/08/2022', 1173.33)"
      ]
     },
     "execution_count": 4,
     "metadata": {},
     "output_type": "execute_result"
    }
   ],
   "source": [
    "calculate_subscription(\"3/06/2022\", 3, 400)"
   ]
  },
  {
   "cell_type": "code",
   "execution_count": null,
   "id": "7ff8ae17",
   "metadata": {},
   "outputs": [],
   "source": []
  }
 ],
 "metadata": {
  "kernelspec": {
   "display_name": "Python 3 (ipykernel)",
   "language": "python",
   "name": "python3"
  },
  "language_info": {
   "codemirror_mode": {
    "name": "ipython",
    "version": 3
   },
   "file_extension": ".py",
   "mimetype": "text/x-python",
   "name": "python",
   "nbconvert_exporter": "python",
   "pygments_lexer": "ipython3",
   "version": "3.9.12"
  }
 },
 "nbformat": 4,
 "nbformat_minor": 5
}
